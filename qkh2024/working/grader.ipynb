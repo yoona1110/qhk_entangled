{
 "cells": [
  {
   "cell_type": "code",
   "execution_count": 1,
   "metadata": {},
   "outputs": [],
   "source": [
    "from qiskit_ibm_runtime.fake_provider import FakeKyiv, FakeKyoto\n",
    "from qiskit import QuantumCircuit\n",
    "from qiskit.circuit.library import QFT, EfficientSU2\n",
    "from qiskit.circuit import Instruction, Parameter\n",
    "\n",
    "from colorama import Fore\n",
    "import numpy as np\n",
    "\n",
    "\n",
    "from qiskit.transpiler.preset_passmanagers import generate_preset_pass_manager\n",
    "from qiskit_aer import AerSimulator\n",
    "from qiskit.compiler import transpile\n",
    "from qiskit.circuit.library import QFT\n",
    "from qiskit_ibm_runtime.fake_provider import FakeMelbourne\n",
    "from qiskit.quantum_info import hellinger_distance, hellinger_fidelity\n",
    "from utils import connections_backend, connections_circuit\n",
    "\n"
   ]
  },
  {
   "cell_type": "code",
   "execution_count": 2,
   "metadata": {},
   "outputs": [],
   "source": [
    "backend_kyiv = FakeKyiv()\n",
    "backend_kyoto= FakeKyoto()"
   ]
  },
  {
   "cell_type": "code",
   "execution_count": 3,
   "metadata": {},
   "outputs": [],
   "source": [
    "qc = QFT(4)\n",
    "pm_kyiv = generate_preset_pass_manager(optimization_level=1, backend=backend_kyiv)\n",
    "circuit_isa_kyiv = pm_kyiv.run(qc)\n",
    "\n",
    "pm_kyoto = generate_preset_pass_manager(optimization_level=1, backend=backend_kyoto)\n",
    "circuit_isa_kyoto = pm_kyoto.run(qc)\n",
    "\n"
   ]
  },
  {
   "cell_type": "code",
   "execution_count": 4,
   "metadata": {},
   "outputs": [],
   "source": [
    "grader_operation_check_message : str = 'Basis gate check passed!'\n",
    "def grader_operation_check(backend : any, circuit : QuantumCircuit):\n",
    "\n",
    "    \"\"\"\n",
    "    Takes a backend and a circuit and see whether the gates in the circuit are supported by the backend\n",
    "\n",
    "    Parameters : \n",
    "                backend : Target backend\n",
    "                circuit : Quantum Circuit whose gates are to be checked with the gates in the target backend\n",
    "    \"\"\"\n",
    "\n",
    "    op_names_backend : list[str] = backend.operation_names\n",
    "    op_names_circuit_dict : dict[str,int]  = circuit.count_ops().items()\n",
    "    #use set.\n",
    "    for keys, val in op_names_circuit_dict:\n",
    "        if keys in op_names_backend:\n",
    "            None\n",
    "        else : \n",
    "            print(Fore.RED + f'The backend does not support {keys} gate')\n",
    "\n",
    "    return print(Fore.GREEN + grader_operation_check_message)"
   ]
  },
  {
   "cell_type": "code",
   "execution_count": 5,
   "metadata": {},
   "outputs": [
    {
     "name": "stdout",
     "output_type": "stream",
     "text": [
      "\u001b[32mBasis gate check passed!\n"
     ]
    }
   ],
   "source": [
    "grader_operation_check(backend_kyiv, circuit_isa_kyiv)\n"
   ]
  },
  {
   "cell_type": "code",
   "execution_count": 6,
   "metadata": {},
   "outputs": [
    {
     "name": "stdout",
     "output_type": "stream",
     "text": [
      "\u001b[32mBasis gate check passed!\n"
     ]
    }
   ],
   "source": [
    "grader_operation_check(backend_kyiv, circuit_isa_kyoto)\n"
   ]
  },
  {
   "cell_type": "code",
   "execution_count": 7,
   "metadata": {},
   "outputs": [],
   "source": [
    "grader_connection_check_correct_message = 'The connections match with the backend'\n",
    "grader_connection_check_incorrect_message = 'The connections does not match with the backend'\n",
    "\n",
    "def grader_connection_check(backend: any, circuit : QuantumCircuit)-> None:\n",
    "\n",
    "    \"\"\"\"\n",
    "    Takes in a Quantum Circuit and a Backend and checks whether the conections in the circuit matches \n",
    "    with the topology of the backend. \n",
    "\n",
    "    Parameters : \n",
    "                backend : Target backend in which the circuit must fit.\n",
    "                circuit : Circuit whose connections are to be matched with the backend\n",
    "\n",
    "    Returns : Message : Whether the circuit fits in the topology of the backend. \n",
    "    \"\"\"\n",
    "    conn_backend = connections_backend(backend)\n",
    "    conn_circ = connections_circuit(circuit)\n",
    "\n",
    "    gate_conn_set_backend : dict[str,set] = {}\n",
    "    for keys,items in conn_backend.items():\n",
    "        gate_conn_set_backend[keys] = set(items)\n",
    "\n",
    "    gate_conn_set_circuit : dict[str,set] = {}\n",
    "    for keys,items in conn_circ.items():\n",
    "        gate_conn_set_circuit[keys] = set(items)\n",
    "\n",
    "    check_connections : list[int] = []\n",
    "    for keys, items in gate_conn_set_circuit.items():\n",
    "        check_connections.append(int(gate_conn_set_circuit[keys].issubset(gate_conn_set_backend[keys])))\n",
    "\n",
    "    if 0 in check_connections:\n",
    "        print(Fore.RED + grader_connection_check_incorrect_message)\n",
    "\n",
    "    else : \n",
    "        print(Fore.GREEN +grader_connection_check_correct_message )"
   ]
  },
  {
   "cell_type": "code",
   "execution_count": 8,
   "metadata": {},
   "outputs": [
    {
     "name": "stdout",
     "output_type": "stream",
     "text": [
      "\u001b[32mThe connections match with the backend\n"
     ]
    }
   ],
   "source": [
    "grader_connection_check(backend_kyiv, circuit_isa_kyiv)\n"
   ]
  },
  {
   "cell_type": "code",
   "execution_count": 9,
   "metadata": {},
   "outputs": [
    {
     "name": "stdout",
     "output_type": "stream",
     "text": [
      "\u001b[31mThe connections does not match with the backend\n"
     ]
    }
   ],
   "source": [
    "grader_connection_check(backend_kyiv, circuit_isa_kyoto)\n"
   ]
  },
  {
   "cell_type": "code",
   "execution_count": 11,
   "metadata": {},
   "outputs": [],
   "source": [
    "simulator = AerSimulator(method = \"statevector\")\n",
    "backend_melbourne = FakeMelbourne()"
   ]
  },
  {
   "cell_type": "code",
   "execution_count": 12,
   "metadata": {},
   "outputs": [],
   "source": [
    "def counts(circuit : QuantumCircuit, backend = simulator) -> dict[str, int]:\n",
    "    \"\"\"\n",
    "    Function to add measurements to a provided circuit and run it on the Aer Simulator.\n",
    "\n",
    "    Parameters \n",
    "        circuit : Quantum Circuit \n",
    "        backend : default = AerSimulator\n",
    "\n",
    "    Returns  \n",
    "        counts in a dict.\n",
    "\n",
    "    \"\"\"\n",
    "\n",
    "    if 'measure' in circuit.count_ops():\n",
    "        None\n",
    "    else : \n",
    "        circuit.measure_active()\n",
    "    result = simulator.run(circuit, backend = simulator).result()\n",
    "    counts = result.get_counts()\n",
    "\n",
    "    return counts"
   ]
  },
  {
   "cell_type": "code",
   "execution_count": 13,
   "metadata": {},
   "outputs": [],
   "source": [
    "correct_fidelity_message = 'Congratualtions! Your circuit is within the given tolerance of the original circuit'\n",
    "incorrect_fidelity_message = 'Oops! Your circuit is not within the given tolerance of the original circuit\\n Try again!'\n",
    "\n",
    "\n",
    "def grader_circuit_accuracy(circuit_target: QuantumCircuit, circuit_test : QuantumCircuit, \n",
    "                            backend : any = simulator, ε : float = 0.75):\n",
    "    \"\"\"\n",
    "    Takes the test circuit and compares it with the target circuit.\n",
    "    It computes the Hellinger distance and Hellinger Fidelity of the probability \n",
    "    distribution of the outputs of the to circuits and checks whether they are in\n",
    "    the tolerance level.\n",
    "\n",
    "    Parameters : \n",
    "        circuit_target :'QuantumCircuit' : Original Quantum Circuit\n",
    "        circuit_test : 'QuantumCircuit': Transpiled Circuit.\n",
    "        epsilon : Tolerance. default = 0.75\n",
    "    Output :\n",
    "        Prints out whether the transpiled circuit is within epsilon accuracy of the original circuit.\n",
    "    \"\"\"\n",
    "\n",
    "    circuit_target = transpile(circuit_target, backend = simulator)\n",
    "    circuit_test = transpile(circuit_test, backend = simulator)\n",
    "\n",
    "    counts_target = counts(circuit_target)\n",
    "    counts_test = counts(circuit_test)\n",
    "\n",
    "    hell_dist : float = hellinger_distance(counts_target, counts_test)\n",
    "    hell_fid : float = hellinger_fidelity(counts_target, counts_test)\n",
    "\n",
    "    if hell_fid >= ε or hell_dist <= 1-ε:\n",
    "        print(Fore.GREEN + correct_fidelity_message)\n",
    "\n",
    "    else :\n",
    "        print(Fore.RED + incorrect_fidelity_message)\n",
    "    \n",
    "    # return hell_dist, hell_fid\n"
   ]
  },
  {
   "cell_type": "code",
   "execution_count": 14,
   "metadata": {},
   "outputs": [],
   "source": [
    "circuit_target = QFT(4)\n",
    "\n",
    "circuit_target = transpile(circuit_target, backend = simulator)\n",
    "circuit_test = transpile(circuit_target, backend = backend_melbourne)\n",
    "\n",
    "circuit_esu2 = EfficientSU2(num_qubits=4)\n",
    "np.random.seed(42)\n",
    "params = np.random.random(circuit_esu2.num_parameters)\n",
    "circuit_esu2 = circuit_esu2.assign_parameters(params)"
   ]
  },
  {
   "cell_type": "code",
   "execution_count": 15,
   "metadata": {},
   "outputs": [
    {
     "name": "stdout",
     "output_type": "stream",
     "text": [
      "\u001b[32mCongratualtions! Your circuit is within the given tolerance of the original circuit\n"
     ]
    }
   ],
   "source": [
    "grader_circuit_accuracy(circuit_target, circuit_test)"
   ]
  },
  {
   "cell_type": "code",
   "execution_count": 16,
   "metadata": {},
   "outputs": [
    {
     "name": "stdout",
     "output_type": "stream",
     "text": [
      "\u001b[31mOops! Your circuit is not within the given tolerance of the original circuit\n",
      " Try again!\n"
     ]
    }
   ],
   "source": [
    "grader_circuit_accuracy(circuit_target, circuit_esu2)"
   ]
  },
  {
   "cell_type": "code",
   "execution_count": null,
   "metadata": {},
   "outputs": [],
   "source": [
    "\n",
    "\n"
   ]
  },
  {
   "cell_type": "code",
   "execution_count": null,
   "metadata": {},
   "outputs": [],
   "source": []
  }
 ],
 "metadata": {
  "kernelspec": {
   "display_name": "base",
   "language": "python",
   "name": "python3"
  },
  "language_info": {
   "codemirror_mode": {
    "name": "ipython",
    "version": 3
   },
   "file_extension": ".py",
   "mimetype": "text/x-python",
   "name": "python",
   "nbconvert_exporter": "python",
   "pygments_lexer": "ipython3",
   "version": "3.11.7"
  }
 },
 "nbformat": 4,
 "nbformat_minor": 2
}
