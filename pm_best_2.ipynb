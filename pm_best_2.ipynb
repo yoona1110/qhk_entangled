{
 "cells": [
  {
   "cell_type": "code",
   "execution_count": null,
   "metadata": {},
   "outputs": [],
   "source": [
    "%pip install qiskit\n",
    "%pip install qiskit-aer\n",
    "%pip install qiskit-ibm-runtime\n",
    "%pip install qiskit-transpiler-service\n",
    "%pip install colorama\n",
    "%pip install matplotlib\n",
    "%pip install pylatexenc"
   ]
  },
  {
   "cell_type": "code",
   "execution_count": null,
   "metadata": {},
   "outputs": [],
   "source": [
    "# 사용할 함수 import\n",
    "from qiskit_ibm_runtime import QiskitRuntimeService\n",
    "from qiskit.transpiler.preset_passmanagers import generate_preset_pass_manager\n",
    "from qiskit.transpiler.preset_passmanagers.plugin import list_stage_plugins\n",
    "from qiskit.circuit.library import QFT\n",
    "from qkh2024.grader import scorer\n",
    "from itertools import product\n",
    "import pandas as pd\n",
    "\n",
    "import matplotlib.pyplot as plt\n",
    "import numpy as np"
   ]
  },
  {
   "cell_type": "code",
   "execution_count": null,
   "metadata": {},
   "outputs": [],
   "source": [
    "service = QiskitRuntimeService()\n",
    "backend = service.backend(\"ibm_sherbrooke\")\n",
    "scorer = scorer()"
   ]
  },
  {
   "cell_type": "code",
   "execution_count": null,
   "metadata": {},
   "outputs": [],
   "source": [
    "layoutValue = list_stage_plugins(\"layout\")\n",
    "routingValue = list_stage_plugins(\"routing\")\n",
    "translationValue = list_stage_plugins(\"translation\")\n",
    "initValue = list_stage_plugins(\"init\")\n",
    "\n",
    "routingValue.pop(2)\n",
    "\n",
    "print(\n",
    "    \"stage check\" \n",
    "    \"\\n layout:\", layoutValue,\n",
    "    \"\\n routing:\", routingValue, \n",
    "    \"\\n translation:\", translationValue,\n",
    "    \"\\n init:\", initValue)"
   ]
  },
  {
   "cell_type": "code",
   "execution_count": null,
   "metadata": {},
   "outputs": [],
   "source": [
    "qc = QFT(5)\n",
    "initial_circuit = qc\n",
    "first_output = True     # 첫번째 리스트 항목인지 확인\n",
    "pm_best_score = 1       # 가장 좋은 score\n",
    "pm_best_score_index = 0 # 해당 score가 몇 번째인지\n",
    "\n",
    "# state 값 별 모든 경우의 수를 계산하여 score 계산\n",
    "for i, (layout, routing, translation, init) in enumerate(product(layoutValue, routingValue, translationValue, initValue)):\n",
    "    pm_best = generate_preset_pass_manager(\n",
    "        optimization_level=0,\n",
    "        backend=backend,\n",
    "        layout_method=layout,\n",
    "        routing_method=routing,\n",
    "        translation_method=translation,\n",
    "        init_method=init\n",
    "    )\n",
    "\n",
    "    transpiled_circuit = pm_best.run(initial_circuit)\n",
    "    now_score = scorer.score(transpiled_circuit, backend)\n",
    "\n",
    "    # 현재 i번째 상태 값과 계산 결과(score)를 now에 저장\n",
    "    # pandas에서 제공하는 dataFrame에 추가\n",
    "    now = [{'layout': layout, 'routing': routing, 'translation': translation, 'init': init, 'score': now_score}]\n",
    "    df = pd.DataFrame(now, columns=['layout', 'routing', 'translation', 'init', 'score'], index=[i])\n",
    "\n",
    "    # 리스트의 맨 윗 부분인 경우에만 위쪽에 header 달리도록\n",
    "    if first_output:\n",
    "        print(df)\n",
    "        first_output = False\n",
    "    else:\n",
    "        print(df.to_string(header=False))\n",
    "\n",
    "    \n",
    "    # 저장된 best score보다 현재 score가 더 작은 경우 best score 변경\n",
    "    # score가 위치한 인덱스 번호도 추가 => 보기 편하라고\n",
    "    if (pm_best_score > now_score):\n",
    "        pm_best_score = now_score\n",
    "        pm_best_score_index = i\n",
    "\n",
    "# 가장 좋은 score 값 출력\n",
    "print(\"best index & score: \", pm_best_score_index,\"번째 \", pm_best_score)"
   ]
  }
 ],
 "metadata": {
  "kernelspec": {
   "display_name": "qkh",
   "language": "python",
   "name": "python3"
  },
  "language_info": {
   "codemirror_mode": {
    "name": "ipython",
    "version": 3
   },
   "file_extension": ".py",
   "mimetype": "text/x-python",
   "name": "python",
   "nbconvert_exporter": "python",
   "pygments_lexer": "ipython3",
   "version": "3.12.4"
  }
 },
 "nbformat": 4,
 "nbformat_minor": 2
}
